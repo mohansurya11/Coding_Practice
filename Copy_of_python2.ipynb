{
  "nbformat": 4,
  "nbformat_minor": 0,
  "metadata": {
    "colab": {
      "name": "Copy of python2.ipynb",
      "provenance": [],
      "include_colab_link": true
    },
    "kernelspec": {
      "name": "python3",
      "display_name": "Python 3"
    },
    "language_info": {
      "name": "python"
    }
  },
  "cells": [
    {
      "cell_type": "markdown",
      "metadata": {
        "id": "view-in-github",
        "colab_type": "text"
      },
      "source": [
        "<a href=\"https://colab.research.google.com/github/mohansurya11/Coding_Practice/blob/main/Copy_of_python2.ipynb\" target=\"_parent\"><img src=\"https://colab.research.google.com/assets/colab-badge.svg\" alt=\"Open In Colab\"/></a>"
      ]
    },
    {
      "cell_type": "code",
      "execution_count": null,
      "metadata": {
        "id": "8zB6P57dDrnv"
      },
      "outputs": [],
      "source": [
        "my_set = {1,2,3,3,4,4,4,5, [1,3,4]}"
      ]
    },
    {
      "cell_type": "code",
      "source": [
        "print(my_set)"
      ],
      "metadata": {
        "colab": {
          "base_uri": "https://localhost:8080/"
        },
        "id": "7HnKQXxxD-BR",
        "outputId": "270b1af1-f363-45f7-aedc-d06f54662d88"
      },
      "execution_count": null,
      "outputs": [
        {
          "output_type": "stream",
          "name": "stdout",
          "text": [
            "{1, 2, 3, 4, 5}\n"
          ]
        }
      ]
    },
    {
      "cell_type": "code",
      "source": [
        "myset = {1,2,3}\n",
        "print(myset)"
      ],
      "metadata": {
        "colab": {
          "base_uri": "https://localhost:8080/"
        },
        "id": "N_I0aYC9F_vG",
        "outputId": "b5146b78-d77c-440b-f819-908d2269be24"
      },
      "execution_count": null,
      "outputs": [
        {
          "output_type": "stream",
          "name": "stdout",
          "text": [
            "{1, 2, 3}\n"
          ]
        }
      ]
    },
    {
      "cell_type": "code",
      "source": [
        "my_list = [1,2,3,4,5]\n",
        "print(my_list)\n",
        "print(my_list[2])"
      ],
      "metadata": {
        "colab": {
          "base_uri": "https://localhost:8080/"
        },
        "id": "VAjZdQaEG9i6",
        "outputId": "c908bec9-c471-4894-fb4b-a59c9c48b2ea"
      },
      "execution_count": null,
      "outputs": [
        {
          "output_type": "stream",
          "name": "stdout",
          "text": [
            "[1, 2, 3, 4, 5]\n",
            "3\n"
          ]
        }
      ]
    },
    {
      "cell_type": "code",
      "source": [
        ""
      ],
      "metadata": {
        "id": "0dK5HyBrGowR"
      },
      "execution_count": null,
      "outputs": []
    },
    {
      "cell_type": "markdown",
      "source": [
        "DICTIONARY"
      ],
      "metadata": {
        "id": "4rHkuGLIJp6g"
      }
    },
    {
      "cell_type": "code",
      "source": [
        "my_dict = {\"name\": \"bala\", \"age\": 22, \"address\": \"No.12, street\", \"number\": 1234567890}\n",
        "\n",
        "print(my_dict)"
      ],
      "metadata": {
        "colab": {
          "base_uri": "https://localhost:8080/"
        },
        "id": "64jnO6w5Jpq8",
        "outputId": "7cff76f9-c3ad-4171-e4f9-aa124376a7a4"
      },
      "execution_count": null,
      "outputs": [
        {
          "output_type": "stream",
          "name": "stdout",
          "text": [
            "{'name': 'bala', 'age': 22, 'address': 'No.12, street', 'number': 1234567890}\n"
          ]
        }
      ]
    },
    {
      "cell_type": "code",
      "source": [
        "# print(my_dict[\"hobbies\"])\n",
        "\n",
        "my_dict[\"hobbies\"] = [\"cricket\", \"khokho\"]\n",
        "print(my_dict)"
      ],
      "metadata": {
        "colab": {
          "base_uri": "https://localhost:8080/"
        },
        "id": "MJ19gXwzKZ-x",
        "outputId": "7788178e-7455-45d8-f2ad-b4547352d517"
      },
      "execution_count": null,
      "outputs": [
        {
          "output_type": "stream",
          "name": "stdout",
          "text": [
            "{'name': 'balakumar', 'age': 22, 'address': 'No.12, street', 'number': 1234567890, 'hobbies': ['cricket', 'khokho']}\n"
          ]
        }
      ]
    },
    {
      "cell_type": "code",
      "source": [
        "my_dict.pop(\"name\")\n",
        "\n",
        "print(my_dict)"
      ],
      "metadata": {
        "colab": {
          "base_uri": "https://localhost:8080/"
        },
        "id": "6UZvzCS1MTjr",
        "outputId": "a06d5e17-936d-453e-d29e-fe03fa07b7e3"
      },
      "execution_count": null,
      "outputs": [
        {
          "output_type": "stream",
          "name": "stdout",
          "text": [
            "{'age': 22, 'address': 'No.12, street', 'number': 1234567890, 'hobbies': ['cricket', 'khokho']}\n"
          ]
        }
      ]
    },
    {
      "cell_type": "markdown",
      "source": [
        "CONDITIONS"
      ],
      "metadata": {
        "id": "Fyf2y88ANEjj"
      }
    },
    {
      "cell_type": "code",
      "source": [
        "a = 10\n",
        "\n",
        "b = 10\n",
        "\n",
        "\n",
        "if a > b:\n",
        "  print(\"a is greater than b\")\n",
        "\n",
        "elif a < b:\n",
        "  print(\"b is greater than a\")\n",
        "\n",
        "else:\n",
        "  print(\"both a and b are same\")\n",
        "\n",
        "\n",
        "\n"
      ],
      "metadata": {
        "id": "Oes0Oe1HNF_U"
      },
      "execution_count": null,
      "outputs": []
    },
    {
      "cell_type": "code",
      "source": [
        "my_list = [1,2,3,4,5,6,7,8,9,10]\n",
        "\n",
        "my_tuple = (1,2,4,5,6)\n",
        "\n",
        "my_set = {1,2,3,4,5,6,7}\n",
        "\n",
        "my_dict = {\"name\": 'bala', \"age\": 22}\n",
        "\n",
        "print(\"LIST\")\n",
        "for element in my_list:\n",
        "\n",
        "  print(element)\n",
        "\n"
      ],
      "metadata": {
        "colab": {
          "base_uri": "https://localhost:8080/"
        },
        "id": "s_8rMLW5OTGZ",
        "outputId": "57aae478-a106-471a-a986-e75085b68387"
      },
      "execution_count": null,
      "outputs": [
        {
          "output_type": "stream",
          "name": "stdout",
          "text": [
            "LIST\n",
            "1\n",
            "2\n",
            "3\n",
            "4\n",
            "5\n",
            "6\n",
            "7\n",
            "8\n",
            "9\n",
            "10\n"
          ]
        }
      ]
    },
    {
      "cell_type": "code",
      "source": [
        "print(\"tuple\")\n",
        "for element in my_tuple:\n",
        "\n",
        "  print(element)\n"
      ],
      "metadata": {
        "colab": {
          "base_uri": "https://localhost:8080/"
        },
        "id": "obfvdiVgPOGn",
        "outputId": "f042b08f-7390-4a99-e1e4-a04a2584b193"
      },
      "execution_count": null,
      "outputs": [
        {
          "output_type": "stream",
          "name": "stdout",
          "text": [
            "tuple\n",
            "1\n",
            "2\n",
            "4\n",
            "5\n",
            "6\n"
          ]
        }
      ]
    },
    {
      "cell_type": "code",
      "source": [
        "for i in range(0, 5, 2):\n",
        "  print(i)"
      ],
      "metadata": {
        "colab": {
          "base_uri": "https://localhost:8080/"
        },
        "id": "x_RH_dhIPZ_P",
        "outputId": "ecb3d6e3-908e-47bc-e54c-c66fb708724c"
      },
      "execution_count": null,
      "outputs": [
        {
          "output_type": "stream",
          "name": "stdout",
          "text": [
            "0\n",
            "2\n",
            "4\n"
          ]
        }
      ]
    },
    {
      "cell_type": "code",
      "source": [
        ""
      ],
      "metadata": {
        "id": "tWbasMt1Pzvs"
      },
      "execution_count": null,
      "outputs": []
    },
    {
      "cell_type": "code",
      "source": [
        "i = 1\n",
        "\n",
        "while i < 6:\n",
        "\n",
        "  print(i)\n",
        "\n",
        "  i = i + 1\n"
      ],
      "metadata": {
        "colab": {
          "base_uri": "https://localhost:8080/"
        },
        "id": "teqocAZLQA_B",
        "outputId": "6bf18651-5ad1-4d54-9231-a0a09246b339"
      },
      "execution_count": null,
      "outputs": [
        {
          "output_type": "stream",
          "name": "stdout",
          "text": [
            "1\n",
            "2\n",
            "3\n",
            "4\n",
            "5\n"
          ]
        }
      ]
    },
    {
      "cell_type": "code",
      "source": [
        "names = [\"bala\", \"gowtham\", \"thangavel\"]\n",
        "\n",
        "for name in names:\n",
        "\n",
        "  print(name)\n",
        "\n",
        "  if name == \"gowtham\":\n",
        "    break\n"
      ],
      "metadata": {
        "colab": {
          "base_uri": "https://localhost:8080/"
        },
        "id": "_jcrxW1qQmoc",
        "outputId": "167924f5-d2fa-4399-8c6f-33a411f818e6"
      },
      "execution_count": null,
      "outputs": [
        {
          "output_type": "stream",
          "name": "stdout",
          "text": [
            "bala\n",
            "gowtham\n"
          ]
        }
      ]
    },
    {
      "cell_type": "code",
      "source": [
        "names = [\"bala\", \"gowtham\", \"thangavel\"]\n",
        "\n",
        "for name in names:\n",
        "\n",
        "  if name == \"gowtham\":\n",
        "    continue\n",
        "\n",
        "  print(name)\n"
      ],
      "metadata": {
        "colab": {
          "base_uri": "https://localhost:8080/"
        },
        "id": "_YQK4zu9RPVP",
        "outputId": "9b9c2039-e168-4be5-9800-57c7afdec8da"
      },
      "execution_count": null,
      "outputs": [
        {
          "output_type": "stream",
          "name": "stdout",
          "text": [
            "bala\n",
            "thangavel\n"
          ]
        }
      ]
    },
    {
      "cell_type": "code",
      "source": [
        "names = [\"bala\", \"gowtham\", \"thangavel\"]\n",
        "\n",
        "for name in names:\n",
        "\n",
        "  if name == \"gowtham\":\n",
        "    pass\n",
        "\n",
        "  print(name)\n"
      ],
      "metadata": {
        "colab": {
          "base_uri": "https://localhost:8080/"
        },
        "id": "mHOYeMf1Rbjj",
        "outputId": "08b50a7b-fa39-423e-9ca5-488d094e399b"
      },
      "execution_count": null,
      "outputs": [
        {
          "output_type": "stream",
          "name": "stdout",
          "text": [
            "bala\n",
            "gowtham\n",
            "thangavel\n"
          ]
        }
      ]
    },
    {
      "cell_type": "code",
      "source": [
        ""
      ],
      "metadata": {
        "id": "czL6OMKRRT-d"
      },
      "execution_count": null,
      "outputs": []
    },
    {
      "cell_type": "markdown",
      "source": [
        "A random number is asked from the user. If the number is positive, print  \"COOL!  IT IS POSITIVE\" and if the number is negative, print \"AHH! IT IS NEGATIVE\". Last, if the number is zero, print \"OH OH! IT IS ZERO\"."
      ],
      "metadata": {
        "id": "yJYrZtmGSa3f"
      }
    },
    {
      "cell_type": "code",
      "source": [
        "number = 2\n",
        "\n",
        "if number > 0:\n",
        "  print(\"POSTIVE\")\n",
        "elif number < 0:\n",
        "  print(\"NEGATIVE\")\n",
        "else:\n",
        "  print(\"ZERO\")"
      ],
      "metadata": {
        "colab": {
          "base_uri": "https://localhost:8080/"
        },
        "id": "MXKRMZhJScAh",
        "outputId": "b0e48dbc-539a-412e-9dd5-f8d54b9a8777"
      },
      "execution_count": null,
      "outputs": [
        {
          "output_type": "stream",
          "name": "stdout",
          "text": [
            "POSTIVE\n"
          ]
        }
      ]
    },
    {
      "cell_type": "markdown",
      "source": [
        "11. You are given with a list of integer elements. Your task is to make a new list which will stores the square of elements of previous list. (Use for loop)"
      ],
      "metadata": {
        "id": "U6glVfJmS0ub"
      }
    },
    {
      "cell_type": "code",
      "source": [
        "number_list = [1,2,3,4,5]\n",
        "\n",
        "number_square_list = []\n",
        "\n",
        "for i in number_list:\n",
        "\n",
        "  number_square_list.append(i * i)\n",
        "\n",
        "print(number_square_list)\n",
        "\n",
        "\n",
        "\n"
      ],
      "metadata": {
        "colab": {
          "base_uri": "https://localhost:8080/"
        },
        "id": "m80kUQKoS0YZ",
        "outputId": "10119a00-eefd-421b-b2e5-2db285204c97"
      },
      "execution_count": null,
      "outputs": [
        {
          "output_type": "stream",
          "name": "stdout",
          "text": [
            "[1, 4, 9, 16, 25]\n"
          ]
        }
      ]
    },
    {
      "cell_type": "markdown",
      "source": [
        "Your sister bought you 10 pencils for 80 rupees. Find the price of each pencil using python"
      ],
      "metadata": {
        "id": "ye46FZwpT3iv"
      }
    },
    {
      "cell_type": "code",
      "source": [
        "number_of_pencils = 10\n",
        "\n",
        "total_price = 80\n",
        "\n",
        "pencil_price = total_price // number_of_pencils\n",
        "\n",
        "print(pencil_price)"
      ],
      "metadata": {
        "colab": {
          "base_uri": "https://localhost:8080/"
        },
        "id": "NKYYKjqGT_We",
        "outputId": "f52c6996-e3b6-433d-fb6b-d4c65f4bf56b"
      },
      "execution_count": null,
      "outputs": [
        {
          "output_type": "stream",
          "name": "stdout",
          "text": [
            "8\n"
          ]
        }
      ]
    },
    {
      "cell_type": "markdown",
      "source": [
        "Make two new lists The first list will contains only odd numbers and the second list will contain only even numbers, print the new lists. "
      ],
      "metadata": {
        "id": "0uKT4fnmU5Pv"
      }
    },
    {
      "cell_type": "code",
      "source": [
        "odd_list = []\n",
        "\n",
        "even_list = []\n",
        "\n",
        "for i in range(1,51):\n",
        "\n",
        "  if i % 2 == 0:\n",
        "\n",
        "    even_list.append(i)\n",
        "\n",
        "  else:\n",
        "\n",
        "    odd_list.append(i)\n",
        "\n",
        "print(odd_list)\n",
        "print(even_list)"
      ],
      "metadata": {
        "colab": {
          "base_uri": "https://localhost:8080/"
        },
        "id": "7Ud2fTI8U51s",
        "outputId": "d18abe24-ea15-47a1-dc0c-6d748a3b0565"
      },
      "execution_count": null,
      "outputs": [
        {
          "output_type": "stream",
          "name": "stdout",
          "text": [
            "[1, 3, 5, 7, 9, 11, 13, 15, 17, 19, 21, 23, 25, 27, 29, 31, 33, 35, 37, 39, 41, 43, 45, 47, 49]\n",
            "[2, 4, 6, 8, 10, 12, 14, 16, 18, 20, 22, 24, 26, 28, 30, 32, 34, 36, 38, 40, 42, 44, 46, 48, 50]\n"
          ]
        }
      ]
    }
  ]
}