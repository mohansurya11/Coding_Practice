{
  "nbformat": 4,
  "nbformat_minor": 0,
  "metadata": {
    "colab": {
      "provenance": [],
      "authorship_tag": "ABX9TyMr0JfZoBHUzYGJBKiEevnP",
      "include_colab_link": true
    },
    "kernelspec": {
      "name": "python3",
      "display_name": "Python 3"
    },
    "language_info": {
      "name": "python"
    }
  },
  "cells": [
    {
      "cell_type": "markdown",
      "metadata": {
        "id": "view-in-github",
        "colab_type": "text"
      },
      "source": [
        "<a href=\"https://colab.research.google.com/github/mohansurya11/Coding_Practice/blob/main/october_month.ipynb\" target=\"_parent\"><img src=\"https://colab.research.google.com/assets/colab-badge.svg\" alt=\"Open In Colab\"/></a>"
      ]
    },
    {
      "cell_type": "code",
      "execution_count": null,
      "metadata": {
        "id": "95V6FYSON5S5"
      },
      "outputs": [],
      "source": []
    },
    {
      "cell_type": "markdown",
      "source": [
        "Binary to decimal"
      ],
      "metadata": {
        "id": "EsuzvULcOoJf"
      }
    },
    {
      "cell_type": "code",
      "source": [
        "binary = list(input())\n",
        "value = 0\n",
        "for i in range(len(binary)):\n",
        "  digit = binary.pop()\n",
        "  if digit == \"1\":\n",
        "    value+=pow(2,i)\n",
        "print(value)\n"
      ],
      "metadata": {
        "colab": {
          "base_uri": "https://localhost:8080/"
        },
        "id": "5hkksnWcOq5V",
        "outputId": "8f6ce022-92f9-4637-c8f5-d56485642263"
      },
      "execution_count": 4,
      "outputs": [
        {
          "output_type": "stream",
          "name": "stdout",
          "text": [
            "1000001\n",
            "65\n"
          ]
        }
      ]
    },
    {
      "cell_type": "markdown",
      "source": [
        "LCM Program\n"
      ],
      "metadata": {
        "id": "_RGscGbQQTpJ"
      }
    },
    {
      "cell_type": "code",
      "source": [
        "num1 =int(input())\n",
        "num2 = int(input())\n",
        "if(num1>num2):\n",
        "  max = num1\n",
        "else:\n",
        "  max = num2\n",
        "while(True):\n",
        "  if (max%num1 == 0) and (max%num2 == 0):\n",
        "    lcm = max\n",
        "    break\n",
        "  max+=1\n",
        "print(lcm)"
      ],
      "metadata": {
        "colab": {
          "base_uri": "https://localhost:8080/"
        },
        "id": "-3v0VuNrSNIU",
        "outputId": "83cfb0d2-b621-4b7c-ef65-f11fc9f67fbc"
      },
      "execution_count": 8,
      "outputs": [
        {
          "output_type": "stream",
          "name": "stdout",
          "text": [
            "24\n",
            "32\n",
            "96\n"
          ]
        }
      ]
    },
    {
      "cell_type": "markdown",
      "source": [
        "HCF/GCD"
      ],
      "metadata": {
        "id": "7M5RUPffUSqG"
      }
    },
    {
      "cell_type": "code",
      "source": [
        "num1 =int(input())\n",
        "num2 = int(input())\n",
        "if(num1<num2):\n",
        "  min = num1\n",
        "else:\n",
        "  min = num2\n",
        "\n",
        "while(min>=2):\n",
        "  if(num1%min==0) and (num2%min==0):\n",
        "    hcf = min\n",
        "    break\n",
        "  min-=1\n",
        "print(hcf)"
      ],
      "metadata": {
        "colab": {
          "base_uri": "https://localhost:8080/"
        },
        "id": "ecprjuZGUVza",
        "outputId": "ddc0903d-f8c1-46b2-f71e-e477c93293d4"
      },
      "execution_count": 9,
      "outputs": [
        {
          "output_type": "stream",
          "name": "stdout",
          "text": [
            "12\n",
            "30\n",
            "6\n"
          ]
        }
      ]
    }
  ]
}